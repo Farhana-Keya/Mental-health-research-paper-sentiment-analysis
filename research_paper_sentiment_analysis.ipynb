{
 "cells": [
  {
   "cell_type": "code",
   "execution_count": 1,
   "id": "93e028f9",
   "metadata": {},
   "outputs": [
    {
     "name": "stderr",
     "output_type": "stream",
     "text": [
      "[nltk_data] Downloading package punkt to /home/tourist800/nltk_data...\n",
      "[nltk_data]   Package punkt is already up-to-date!\n",
      "[nltk_data] Downloading package stopwords to\n",
      "[nltk_data]     /home/tourist800/nltk_data...\n",
      "[nltk_data]   Package stopwords is already up-to-date!\n",
      "[nltk_data] Downloading package wordnet to\n",
      "[nltk_data]     /home/tourist800/nltk_data...\n",
      "[nltk_data]   Package wordnet is already up-to-date!\n",
      "[nltk_data] Downloading package sentiwordnet to\n",
      "[nltk_data]     /home/tourist800/nltk_data...\n",
      "[nltk_data]   Package sentiwordnet is already up-to-date!\n"
     ]
    }
   ],
   "source": [
    "import pandas as pd\n",
    "from os import listdir\n",
    "from os.path import isfile, join\n",
    "import re\n",
    "import nltk\n",
    "nltk.download('punkt')\n",
    "from nltk.tokenize import word_tokenize\n",
    "from nltk import pos_tag\n",
    "nltk.download('stopwords')\n",
    "from nltk.corpus import stopwords\n",
    "nltk.download('wordnet')\n",
    "from nltk.corpus import wordnet\n",
    "from nltk.stem import WordNetLemmatizer\n",
    "wordnet_lemmatizer = WordNetLemmatizer()\n",
    "from vaderSentiment.vaderSentiment import SentimentIntensityAnalyzer\n",
    "from textblob import TextBlob\n",
    "nltk.download('sentiwordnet')\n",
    "from nltk.corpus import sentiwordnet as swn\n",
    "from flair.models import TextClassifier\n",
    "from flair.data import Sentence"
   ]
  },
  {
   "cell_type": "code",
   "execution_count": 2,
   "id": "ff402da4",
   "metadata": {},
   "outputs": [],
   "source": [
    "def create_df(folder_path):\n",
    "    files = [f for f in listdir(folder_path) if isfile(join(folder_path, f))]\n",
    "    \n",
    "    df_list = []\n",
    "    \n",
    "    for file in files:\n",
    "        file_path_open = folder_path+ \"/\" + file\n",
    "        with open(file_path_open, encoding=\"utf8\", errors='ignore') as f:\n",
    "            file_read = f.read()\n",
    "            \n",
    "            text_split = file_read.split(\".\")\n",
    "            for i in range(0,len(text_split),1):\n",
    "                remove_newline = text_split[i].replace('\\n', ' ').replace('\\r', '')\n",
    "                if len(remove_newline.split(\" \"))>2:\n",
    "                    df_list.append([remove_newline,file.replace('.txt','')])\n",
    "                \n",
    "    return df_list"
   ]
  },
  {
   "cell_type": "code",
   "execution_count": 3,
   "id": "72bab16a",
   "metadata": {},
   "outputs": [],
   "source": [
    "folder_path = 'Dataset'"
   ]
  },
  {
   "cell_type": "code",
   "execution_count": 4,
   "id": "e1fadd76",
   "metadata": {},
   "outputs": [],
   "source": [
    "pd_list = create_df(folder_path)"
   ]
  },
  {
   "cell_type": "code",
   "execution_count": 5,
   "id": "499f8524",
   "metadata": {},
   "outputs": [
    {
     "data": {
      "text/plain": [
       "564"
      ]
     },
     "execution_count": 5,
     "metadata": {},
     "output_type": "execute_result"
    }
   ],
   "source": [
    "len(pd_list)"
   ]
  },
  {
   "cell_type": "code",
   "execution_count": 6,
   "id": "82c58688",
   "metadata": {},
   "outputs": [],
   "source": [
    "df = pd.DataFrame(pd_list, columns = ['Sentence', 'Paper_name'])"
   ]
  },
  {
   "cell_type": "code",
   "execution_count": 7,
   "id": "a1b02802",
   "metadata": {},
   "outputs": [
    {
     "data": {
      "text/html": [
       "<div>\n",
       "<style scoped>\n",
       "    .dataframe tbody tr th:only-of-type {\n",
       "        vertical-align: middle;\n",
       "    }\n",
       "\n",
       "    .dataframe tbody tr th {\n",
       "        vertical-align: top;\n",
       "    }\n",
       "\n",
       "    .dataframe thead th {\n",
       "        text-align: right;\n",
       "    }\n",
       "</style>\n",
       "<table border=\"1\" class=\"dataframe\">\n",
       "  <thead>\n",
       "    <tr style=\"text-align: right;\">\n",
       "      <th></th>\n",
       "      <th>Sentence</th>\n",
       "      <th>Paper_name</th>\n",
       "    </tr>\n",
       "  </thead>\n",
       "  <tbody>\n",
       "    <tr>\n",
       "      <th>0</th>\n",
       "      <td>Bard Senior Projects Fall 2020    Bard Coll...</td>\n",
       "      <td>9</td>\n",
       "    </tr>\n",
       "    <tr>\n",
       "      <th>1</th>\n",
       "      <td>edu               Follow this and additional w...</td>\n",
       "      <td>9</td>\n",
       "    </tr>\n",
       "    <tr>\n",
       "      <th>2</th>\n",
       "      <td>edu/senproj_f2020 Part of the  Psychology Comm...</td>\n",
       "      <td>9</td>\n",
       "    </tr>\n",
       "    <tr>\n",
       "      <th>3</th>\n",
       "      <td>Recommended Citation Bossard, Grant Sean, \"...</td>\n",
       "      <td>9</td>\n",
       "    </tr>\n",
       "    <tr>\n",
       "      <th>4</th>\n",
       "      <td>Senior Projects Fall 2020</td>\n",
       "      <td>9</td>\n",
       "    </tr>\n",
       "    <tr>\n",
       "      <th>...</th>\n",
       "      <td>...</td>\n",
       "      <td>...</td>\n",
       "    </tr>\n",
       "    <tr>\n",
       "      <th>559</th>\n",
       "      <td>Specifically, the research wants to see if us...</td>\n",
       "      <td>9</td>\n",
       "    </tr>\n",
       "    <tr>\n",
       "      <th>560</th>\n",
       "      <td>and  reduces self-esteem</td>\n",
       "      <td>9</td>\n",
       "    </tr>\n",
       "    <tr>\n",
       "      <th>561</th>\n",
       "      <td>Also, the study slants to see if not using an...</td>\n",
       "      <td>9</td>\n",
       "    </tr>\n",
       "    <tr>\n",
       "      <th>562</th>\n",
       "      <td>and increase self-  esteem</td>\n",
       "      <td>9</td>\n",
       "    </tr>\n",
       "    <tr>\n",
       "      <th>563</th>\n",
       "      <td>If you has e any questions or coiicei‘iis, pl...</td>\n",
       "      <td>9</td>\n",
       "    </tr>\n",
       "  </tbody>\n",
       "</table>\n",
       "<p>564 rows × 2 columns</p>\n",
       "</div>"
      ],
      "text/plain": [
       "                                              Sentence Paper_name\n",
       "0       Bard Senior Projects Fall 2020    Bard Coll...          9\n",
       "1    edu               Follow this and additional w...          9\n",
       "2    edu/senproj_f2020 Part of the  Psychology Comm...          9\n",
       "3       Recommended Citation Bossard, Grant Sean, \"...          9\n",
       "4                            Senior Projects Fall 2020          9\n",
       "..                                                 ...        ...\n",
       "559   Specifically, the research wants to see if us...          9\n",
       "560                           and  reduces self-esteem          9\n",
       "561   Also, the study slants to see if not using an...          9\n",
       "562                         and increase self-  esteem          9\n",
       "563   If you has e any questions or coiicei‘iis, pl...          9\n",
       "\n",
       "[564 rows x 2 columns]"
      ]
     },
     "execution_count": 7,
     "metadata": {},
     "output_type": "execute_result"
    }
   ],
   "source": [
    "df"
   ]
  },
  {
   "cell_type": "code",
   "execution_count": 8,
   "id": "a6564796",
   "metadata": {},
   "outputs": [
    {
     "data": {
      "text/plain": [
       "9    564\n",
       "Name: Paper_name, dtype: int64"
      ]
     },
     "execution_count": 8,
     "metadata": {},
     "output_type": "execute_result"
    }
   ],
   "source": [
    "df.Paper_name.value_counts()"
   ]
  },
  {
   "cell_type": "code",
   "execution_count": 9,
   "id": "a4eb4efb",
   "metadata": {},
   "outputs": [],
   "source": [
    "df.to_csv('research_paper_sentiment_analysis.csv')"
   ]
  },
  {
   "cell_type": "markdown",
   "id": "4b635912",
   "metadata": {},
   "source": [
    "## Data preprocessing"
   ]
  },
  {
   "cell_type": "code",
   "execution_count": 10,
   "id": "09877b61",
   "metadata": {},
   "outputs": [],
   "source": [
    "def clean(text):\n",
    "    text = re.sub('[^A-Za-z]+', ' ', text)\n",
    "    return text"
   ]
  },
  {
   "cell_type": "code",
   "execution_count": 11,
   "id": "3d23519d",
   "metadata": {},
   "outputs": [],
   "source": [
    "pos_dict = {'J':wordnet.ADJ, 'V':wordnet.VERB, 'N':wordnet.NOUN, 'R':wordnet.ADV}\n",
    "\n",
    "def token_stop_pos(text):\n",
    "    tags = pos_tag(word_tokenize(text))\n",
    "    newlist = []\n",
    "    for word, tag in tags:\n",
    "        if word.lower() not in set(stopwords.words('english')):\n",
    "            newlist.append(tuple([word, pos_dict.get(tag[0])]))\n",
    "    return newlist"
   ]
  },
  {
   "cell_type": "code",
   "execution_count": 12,
   "id": "9b9e7d1a",
   "metadata": {},
   "outputs": [],
   "source": [
    "def lemmatize(pos_data):\n",
    "    lemma_rew = \" \"\n",
    "    for word, pos in pos_data:\n",
    "        if not pos:\n",
    "            lemma = word\n",
    "            lemma_rew = lemma_rew + \" \" + lemma\n",
    "        else:\n",
    "            lemma = wordnet_lemmatizer.lemmatize(word, pos=pos)\n",
    "            lemma_rew = lemma_rew + \" \" + lemma\n",
    "    return lemma_rew"
   ]
  },
  {
   "cell_type": "code",
   "execution_count": 13,
   "id": "e1334993",
   "metadata": {},
   "outputs": [],
   "source": [
    "df['Sentence_clean'] = df['Sentence'].apply(clean)"
   ]
  },
  {
   "cell_type": "code",
   "execution_count": 14,
   "id": "19876903",
   "metadata": {},
   "outputs": [],
   "source": [
    "df['POS_tagged'] = df['Sentence_clean'].apply(token_stop_pos)"
   ]
  },
  {
   "cell_type": "code",
   "execution_count": 15,
   "id": "63d8fab2",
   "metadata": {},
   "outputs": [],
   "source": [
    "df['Lemma'] = df['POS_tagged'].apply(lemmatize)"
   ]
  },
  {
   "cell_type": "code",
   "execution_count": 16,
   "id": "ff4a8515",
   "metadata": {},
   "outputs": [
    {
     "data": {
      "text/html": [
       "<div>\n",
       "<style scoped>\n",
       "    .dataframe tbody tr th:only-of-type {\n",
       "        vertical-align: middle;\n",
       "    }\n",
       "\n",
       "    .dataframe tbody tr th {\n",
       "        vertical-align: top;\n",
       "    }\n",
       "\n",
       "    .dataframe thead th {\n",
       "        text-align: right;\n",
       "    }\n",
       "</style>\n",
       "<table border=\"1\" class=\"dataframe\">\n",
       "  <thead>\n",
       "    <tr style=\"text-align: right;\">\n",
       "      <th></th>\n",
       "      <th>Sentence</th>\n",
       "      <th>Paper_name</th>\n",
       "      <th>Sentence_clean</th>\n",
       "      <th>POS_tagged</th>\n",
       "      <th>Lemma</th>\n",
       "    </tr>\n",
       "  </thead>\n",
       "  <tbody>\n",
       "    <tr>\n",
       "      <th>0</th>\n",
       "      <td>Bard Senior Projects Fall 2020    Bard Coll...</td>\n",
       "      <td>9</td>\n",
       "      <td>Bard Senior Projects Fall Bard College Bard D...</td>\n",
       "      <td>[(Bard, n), (Senior, n), (Projects, n), (Fall,...</td>\n",
       "      <td>Bard Senior Projects Fall Bard College Bard ...</td>\n",
       "    </tr>\n",
       "    <tr>\n",
       "      <th>1</th>\n",
       "      <td>edu               Follow this and additional w...</td>\n",
       "      <td>9</td>\n",
       "      <td>edu Follow this and additional works at https ...</td>\n",
       "      <td>[(edu, r), (Follow, n), (additional, a), (work...</td>\n",
       "      <td>edu Follow additional work http digitalcommons</td>\n",
       "    </tr>\n",
       "    <tr>\n",
       "      <th>2</th>\n",
       "      <td>edu/senproj_f2020 Part of the  Psychology Comm...</td>\n",
       "      <td>9</td>\n",
       "      <td>edu senproj f Part of the Psychology Commons o...</td>\n",
       "      <td>[(edu, n), (senproj, n), (f, a), (Part, n), (P...</td>\n",
       "      <td>edu senproj f Part Psychology Commons work l...</td>\n",
       "    </tr>\n",
       "  </tbody>\n",
       "</table>\n",
       "</div>"
      ],
      "text/plain": [
       "                                            Sentence Paper_name  \\\n",
       "0     Bard Senior Projects Fall 2020    Bard Coll...          9   \n",
       "1  edu               Follow this and additional w...          9   \n",
       "2  edu/senproj_f2020 Part of the  Psychology Comm...          9   \n",
       "\n",
       "                                      Sentence_clean  \\\n",
       "0   Bard Senior Projects Fall Bard College Bard D...   \n",
       "1  edu Follow this and additional works at https ...   \n",
       "2  edu senproj f Part of the Psychology Commons o...   \n",
       "\n",
       "                                          POS_tagged  \\\n",
       "0  [(Bard, n), (Senior, n), (Projects, n), (Fall,...   \n",
       "1  [(edu, r), (Follow, n), (additional, a), (work...   \n",
       "2  [(edu, n), (senproj, n), (f, a), (Part, n), (P...   \n",
       "\n",
       "                                               Lemma  \n",
       "0    Bard Senior Projects Fall Bard College Bard ...  \n",
       "1     edu Follow additional work http digitalcommons  \n",
       "2    edu senproj f Part Psychology Commons work l...  "
      ]
     },
     "execution_count": 16,
     "metadata": {},
     "output_type": "execute_result"
    }
   ],
   "source": [
    "df.head(3)"
   ]
  },
  {
   "cell_type": "code",
   "execution_count": 17,
   "id": "763399f7",
   "metadata": {},
   "outputs": [],
   "source": [
    "fin_data = pd.DataFrame(df[['Sentence', 'Paper_name', 'Lemma']])"
   ]
  },
  {
   "cell_type": "code",
   "execution_count": 18,
   "id": "5746b8e4",
   "metadata": {},
   "outputs": [],
   "source": [
    "analyzer = SentimentIntensityAnalyzer()"
   ]
  },
  {
   "cell_type": "code",
   "execution_count": 19,
   "id": "2a7cf158",
   "metadata": {},
   "outputs": [],
   "source": [
    "def vadersentimentanalysis(review):\n",
    "    vs = analyzer.polarity_scores(review)\n",
    "    return vs['compound']"
   ]
  },
  {
   "cell_type": "code",
   "execution_count": 20,
   "id": "133fa93b",
   "metadata": {},
   "outputs": [],
   "source": [
    "# function to analyse\n",
    "def vader_analysis(compound):\n",
    "    if compound >= 0.5:\n",
    "        return 'Positive'\n",
    "    elif compound <= -0.5 :\n",
    "        return 'Negative'\n",
    "    else:\n",
    "        return 'Neutral'"
   ]
  },
  {
   "cell_type": "code",
   "execution_count": 21,
   "id": "63952f01",
   "metadata": {},
   "outputs": [],
   "source": [
    "fin_data['Vader_Sentiment'] = fin_data['Lemma'].apply(vadersentimentanalysis)"
   ]
  },
  {
   "cell_type": "code",
   "execution_count": 22,
   "id": "57329cb5",
   "metadata": {},
   "outputs": [],
   "source": [
    "fin_data['Vader_Analysis'] = fin_data['Vader_Sentiment'].apply(vader_analysis)"
   ]
  },
  {
   "cell_type": "code",
   "execution_count": 23,
   "id": "64f8256a",
   "metadata": {
    "scrolled": false
   },
   "outputs": [
    {
     "data": {
      "text/html": [
       "<div>\n",
       "<style scoped>\n",
       "    .dataframe tbody tr th:only-of-type {\n",
       "        vertical-align: middle;\n",
       "    }\n",
       "\n",
       "    .dataframe tbody tr th {\n",
       "        vertical-align: top;\n",
       "    }\n",
       "\n",
       "    .dataframe thead th {\n",
       "        text-align: right;\n",
       "    }\n",
       "</style>\n",
       "<table border=\"1\" class=\"dataframe\">\n",
       "  <thead>\n",
       "    <tr style=\"text-align: right;\">\n",
       "      <th></th>\n",
       "      <th>Sentence</th>\n",
       "      <th>Paper_name</th>\n",
       "      <th>Lemma</th>\n",
       "      <th>Vader_Sentiment</th>\n",
       "      <th>Vader_Analysis</th>\n",
       "    </tr>\n",
       "  </thead>\n",
       "  <tbody>\n",
       "    <tr>\n",
       "      <th>0</th>\n",
       "      <td>Bard Senior Projects Fall 2020    Bard Coll...</td>\n",
       "      <td>9</td>\n",
       "      <td>Bard Senior Projects Fall Bard College Bard ...</td>\n",
       "      <td>0.3612</td>\n",
       "      <td>Neutral</td>\n",
       "    </tr>\n",
       "    <tr>\n",
       "      <th>1</th>\n",
       "      <td>edu               Follow this and additional w...</td>\n",
       "      <td>9</td>\n",
       "      <td>edu Follow additional work http digitalcommons</td>\n",
       "      <td>0.0000</td>\n",
       "      <td>Neutral</td>\n",
       "    </tr>\n",
       "    <tr>\n",
       "      <th>2</th>\n",
       "      <td>edu/senproj_f2020 Part of the  Psychology Comm...</td>\n",
       "      <td>9</td>\n",
       "      <td>edu senproj f Part Psychology Commons work l...</td>\n",
       "      <td>0.4404</td>\n",
       "      <td>Neutral</td>\n",
       "    </tr>\n",
       "    <tr>\n",
       "      <th>3</th>\n",
       "      <td>Recommended Citation Bossard, Grant Sean, \"...</td>\n",
       "      <td>9</td>\n",
       "      <td>Recommended Citation Bossard Grant Sean Effe...</td>\n",
       "      <td>0.5106</td>\n",
       "      <td>Positive</td>\n",
       "    </tr>\n",
       "    <tr>\n",
       "      <th>4</th>\n",
       "      <td>Senior Projects Fall 2020</td>\n",
       "      <td>9</td>\n",
       "      <td>Senior Projects Fall</td>\n",
       "      <td>0.0000</td>\n",
       "      <td>Neutral</td>\n",
       "    </tr>\n",
       "    <tr>\n",
       "      <th>...</th>\n",
       "      <td>...</td>\n",
       "      <td>...</td>\n",
       "      <td>...</td>\n",
       "      <td>...</td>\n",
       "      <td>...</td>\n",
       "    </tr>\n",
       "    <tr>\n",
       "      <th>559</th>\n",
       "      <td>Specifically, the research wants to see if us...</td>\n",
       "      <td>9</td>\n",
       "      <td>Specifically research want see usinp social ...</td>\n",
       "      <td>-0.5267</td>\n",
       "      <td>Negative</td>\n",
       "    </tr>\n",
       "    <tr>\n",
       "      <th>560</th>\n",
       "      <td>and  reduces self-esteem</td>\n",
       "      <td>9</td>\n",
       "      <td>reduces self esteem</td>\n",
       "      <td>0.0000</td>\n",
       "      <td>Neutral</td>\n",
       "    </tr>\n",
       "    <tr>\n",
       "      <th>561</th>\n",
       "      <td>Also, the study slants to see if not using an...</td>\n",
       "      <td>9</td>\n",
       "      <td>Also study slant see use social medium platf...</td>\n",
       "      <td>-0.5267</td>\n",
       "      <td>Negative</td>\n",
       "    </tr>\n",
       "    <tr>\n",
       "      <th>562</th>\n",
       "      <td>and increase self-  esteem</td>\n",
       "      <td>9</td>\n",
       "      <td>increase self esteem</td>\n",
       "      <td>0.3182</td>\n",
       "      <td>Neutral</td>\n",
       "    </tr>\n",
       "    <tr>\n",
       "      <th>563</th>\n",
       "      <td>If you has e any questions or coiicei‘iis, pl...</td>\n",
       "      <td>9</td>\n",
       "      <td>e question coiicei iis please contact Grant ...</td>\n",
       "      <td>0.5859</td>\n",
       "      <td>Positive</td>\n",
       "    </tr>\n",
       "  </tbody>\n",
       "</table>\n",
       "<p>564 rows × 5 columns</p>\n",
       "</div>"
      ],
      "text/plain": [
       "                                              Sentence Paper_name  \\\n",
       "0       Bard Senior Projects Fall 2020    Bard Coll...          9   \n",
       "1    edu               Follow this and additional w...          9   \n",
       "2    edu/senproj_f2020 Part of the  Psychology Comm...          9   \n",
       "3       Recommended Citation Bossard, Grant Sean, \"...          9   \n",
       "4                            Senior Projects Fall 2020          9   \n",
       "..                                                 ...        ...   \n",
       "559   Specifically, the research wants to see if us...          9   \n",
       "560                           and  reduces self-esteem          9   \n",
       "561   Also, the study slants to see if not using an...          9   \n",
       "562                         and increase self-  esteem          9   \n",
       "563   If you has e any questions or coiicei‘iis, pl...          9   \n",
       "\n",
       "                                                 Lemma  Vader_Sentiment  \\\n",
       "0      Bard Senior Projects Fall Bard College Bard ...           0.3612   \n",
       "1       edu Follow additional work http digitalcommons           0.0000   \n",
       "2      edu senproj f Part Psychology Commons work l...           0.4404   \n",
       "3      Recommended Citation Bossard Grant Sean Effe...           0.5106   \n",
       "4                                 Senior Projects Fall           0.0000   \n",
       "..                                                 ...              ...   \n",
       "559    Specifically research want see usinp social ...          -0.5267   \n",
       "560                                reduces self esteem           0.0000   \n",
       "561    Also study slant see use social medium platf...          -0.5267   \n",
       "562                               increase self esteem           0.3182   \n",
       "563    e question coiicei iis please contact Grant ...           0.5859   \n",
       "\n",
       "    Vader_Analysis  \n",
       "0          Neutral  \n",
       "1          Neutral  \n",
       "2          Neutral  \n",
       "3         Positive  \n",
       "4          Neutral  \n",
       "..             ...  \n",
       "559       Negative  \n",
       "560        Neutral  \n",
       "561       Negative  \n",
       "562        Neutral  \n",
       "563       Positive  \n",
       "\n",
       "[564 rows x 5 columns]"
      ]
     },
     "execution_count": 23,
     "metadata": {},
     "output_type": "execute_result"
    }
   ],
   "source": [
    "fin_data"
   ]
  },
  {
   "cell_type": "code",
   "execution_count": 24,
   "id": "79dc7d56",
   "metadata": {},
   "outputs": [
    {
     "data": {
      "text/plain": [
       "Neutral     429\n",
       "Negative     70\n",
       "Positive     65\n",
       "Name: Vader_Analysis, dtype: int64"
      ]
     },
     "execution_count": 24,
     "metadata": {},
     "output_type": "execute_result"
    }
   ],
   "source": [
    "vader_counts = fin_data['Vader_Analysis'].value_counts()\n",
    "vader_counts"
   ]
  },
  {
   "cell_type": "code",
   "execution_count": 25,
   "id": "ba6aa980",
   "metadata": {},
   "outputs": [
    {
     "data": {
      "text/html": [
       "<div>\n",
       "<style scoped>\n",
       "    .dataframe tbody tr th:only-of-type {\n",
       "        vertical-align: middle;\n",
       "    }\n",
       "\n",
       "    .dataframe tbody tr th {\n",
       "        vertical-align: top;\n",
       "    }\n",
       "\n",
       "    .dataframe thead th {\n",
       "        text-align: right;\n",
       "    }\n",
       "</style>\n",
       "<table border=\"1\" class=\"dataframe\">\n",
       "  <thead>\n",
       "    <tr style=\"text-align: right;\">\n",
       "      <th></th>\n",
       "      <th>index</th>\n",
       "      <th>Sum of Vader_Analysis</th>\n",
       "    </tr>\n",
       "  </thead>\n",
       "  <tbody>\n",
       "    <tr>\n",
       "      <th>0</th>\n",
       "      <td>Neutral</td>\n",
       "      <td>429</td>\n",
       "    </tr>\n",
       "    <tr>\n",
       "      <th>1</th>\n",
       "      <td>Negative</td>\n",
       "      <td>70</td>\n",
       "    </tr>\n",
       "    <tr>\n",
       "      <th>2</th>\n",
       "      <td>Positive</td>\n",
       "      <td>65</td>\n",
       "    </tr>\n",
       "  </tbody>\n",
       "</table>\n",
       "</div>"
      ],
      "text/plain": [
       "      index  Sum of Vader_Analysis\n",
       "0   Neutral                    429\n",
       "1  Negative                     70\n",
       "2  Positive                     65"
      ]
     },
     "execution_count": 25,
     "metadata": {},
     "output_type": "execute_result"
    }
   ],
   "source": [
    "fin_data.Vader_Analysis.value_counts().reset_index(name='Sum of Vader_Analysis')"
   ]
  },
  {
   "cell_type": "code",
   "execution_count": null,
   "id": "53b2745a",
   "metadata": {},
   "outputs": [],
   "source": []
  }
 ],
 "metadata": {
  "kernelspec": {
   "display_name": "Python 3",
   "language": "python",
   "name": "python3"
  },
  "language_info": {
   "codemirror_mode": {
    "name": "ipython",
    "version": 3
   },
   "file_extension": ".py",
   "mimetype": "text/x-python",
   "name": "python",
   "nbconvert_exporter": "python",
   "pygments_lexer": "ipython3",
   "version": "3.8.8"
  }
 },
 "nbformat": 4,
 "nbformat_minor": 5
}
